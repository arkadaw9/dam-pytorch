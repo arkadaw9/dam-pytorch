{
 "cells": [
  {
   "cell_type": "code",
   "execution_count": 1,
   "metadata": {},
   "outputs": [],
   "source": [
    "import os\n",
    "import torch\n",
    "import sys\n",
    "import torchvision\n",
    "from torch import nn\n",
    "from torch.autograd import Variable\n",
    "from torch.utils.data import DataLoader\n",
    "from torchvision import transforms\n",
    "from torchvision.datasets import MNIST\n",
    "from torchvision.utils import save_image\n",
    "import numpy as np\n",
    "import matplotlib.pyplot as plt\n",
    "from sklearn import metrics\n",
    "from sklearn.manifold import TSNE\n",
    "import pylab as py\n",
    "from sklearn.linear_model import LogisticRegression\n",
    "from sklearn.metrics import f1_score\n",
    "from sklearn.neural_network import MLPClassifier\n",
    "\n",
    "\n",
    "import warnings\n",
    "warnings.filterwarnings('ignore')\n",
    "\n",
    "from fastprogress import master_bar, progress_bar"
   ]
  },
  {
   "cell_type": "code",
   "execution_count": 2,
   "metadata": {},
   "outputs": [],
   "source": [
    "import matplotlib as mpl\n",
    "plt.rcParams.update({\n",
    "    \"text.usetex\": True,\n",
    "    \"font.family\": \"sans-serif\",\n",
    "    \"font.sans-serif\": [\"Helvetica\"]})\n",
    "## for Palatino and other serif fonts use:\n",
    "plt.rcParams.update({\n",
    "    \"text.usetex\": True,\n",
    "    \"font.family\": \"serif\",\n",
    "    \"font.serif\": [\"Palatino\"],\n",
    "})"
   ]
  },
  {
   "cell_type": "code",
   "execution_count": 3,
   "metadata": {},
   "outputs": [],
   "source": [
    "def to_img(x):\n",
    "    x = 0.5 * (x + 1)\n",
    "    x = x.clamp(0, 1)\n",
    "    x = x.view(x.size(0), 1, 28, 28)\n",
    "    return x\n",
    "\n",
    "img_transform = transforms.Compose([\n",
    "    transforms.ToTensor(),\n",
    "    transforms.Normalize([0.5],[0.5])\n",
    "])"
   ]
  },
  {
   "cell_type": "code",
   "execution_count": 4,
   "metadata": {},
   "outputs": [],
   "source": [
    "num_epochs = 100\n",
    "batch_size = 512\n",
    "learning_rate = 1e-3"
   ]
  },
  {
   "cell_type": "code",
   "execution_count": 5,
   "metadata": {},
   "outputs": [],
   "source": [
    "train_dataset = MNIST('../data', train=True, transform=img_transform)\n",
    "test_dataset = MNIST('../data', train=False, transform=img_transform)\n",
    "train_loader = DataLoader(train_dataset, batch_size=batch_size, shuffle=True, num_workers=8)\n",
    "test_loader = DataLoader(test_dataset, batch_size=batch_size, shuffle=True, num_workers=8)"
   ]
  },
  {
   "cell_type": "code",
   "execution_count": 6,
   "metadata": {},
   "outputs": [
    {
     "name": "stdout",
     "output_type": "stream",
     "text": [
      "cuda:4\n"
     ]
    }
   ],
   "source": [
    "device = 'cuda:4' if torch.cuda.is_available() else 'cpu'\n",
    "print(device)"
   ]
  },
  {
   "cell_type": "code",
   "execution_count": 7,
   "metadata": {},
   "outputs": [],
   "source": [
    "class DAM(nn.Module):\n",
    "    \"\"\" Discriminative Amplitude Modulator Layer (1-D) \"\"\"\n",
    "    def __init__(self, in_dim):\n",
    "        super(DAM, self).__init__()\n",
    "        self.in_dim = in_dim\n",
    "        \n",
    "        self.mu = torch.arange(0, self.in_dim).float()/self.in_dim * 5\n",
    "        self.mu = nn.Parameter(self.mu, requires_grad=False)\n",
    "        self.beta = nn.Parameter(torch.ones(1), requires_grad=True)\n",
    "        self.alpha = nn.Parameter(torch.ones(1), requires_grad=False)\n",
    "        self.register_parameter('mu', self.mu)\n",
    "        self.register_parameter('beta', self.beta)\n",
    "        self.register_parameter('alpha', self.alpha)\n",
    "        \n",
    "        self.tanh = nn.Tanh()\n",
    "        self.relu = nn.ReLU()\n",
    "        \n",
    "    def forward(self, x):\n",
    "        return x * self.mask()\n",
    "    \n",
    "    def mask(self):\n",
    "        return self.relu(self.tanh((self.alpha ** 2) * (self.mu + self.beta)))"
   ]
  },
  {
   "cell_type": "code",
   "execution_count": 8,
   "metadata": {},
   "outputs": [],
   "source": [
    "class AEnc(nn.Module):\n",
    "    def __init__(self, init_dim):\n",
    "        super(AEnc, self).__init__()\n",
    "        self.enc_layer_1 = nn.Linear(28 * 28, 128)\n",
    "        self.enc_layer_2 = nn.Linear(128, 64)\n",
    "        self.enc_layer_3 = nn.Linear(64, 32)\n",
    "        self.enc_layer_4 = nn.Linear(32, init_dim)\n",
    "        self.dam_layer = DAM(init_dim)\n",
    "        self.dec_layer_1 = nn.Linear(init_dim, 32)\n",
    "        self.dec_layer_2 = nn.Linear(32, 64)\n",
    "        self.dec_layer_3 = nn.Linear(64, 128)\n",
    "        self.dec_layer_4 = nn.Linear(128, 28 * 28)\n",
    "        self.relu = nn.ReLU()\n",
    "        self.tanh = nn.Tanh()\n",
    "        \n",
    "        \n",
    "    def forward(self, x):\n",
    "        out = self.relu(self.enc_layer_1(x))\n",
    "        out = self.relu(self.enc_layer_2(out))\n",
    "        out = self.relu(self.enc_layer_3(out))\n",
    "        h = self.enc_layer_4(out)\n",
    "        h = self.dam_layer(h)\n",
    "        x_r = self.relu(self.dec_layer_1(h))\n",
    "        x_r = self.relu(self.dec_layer_2(x_r))\n",
    "        x_r = self.relu(self.dec_layer_3(x_r))\n",
    "        x_r = self.tanh(self.dec_layer_4(x_r))\n",
    "        return x_r, h"
   ]
  },
  {
   "cell_type": "code",
   "execution_count": 9,
   "metadata": {},
   "outputs": [],
   "source": [
    "class SLM(nn.Module):\n",
    "    \"\"\" Network Sliming Modulator Layer (1-D) \"\"\"\n",
    "    def __init__(self, in_dim):\n",
    "        super(SLM, self).__init__()\n",
    "        self.in_dim = in_dim\n",
    "        self.mu = nn.Parameter(torch.ones(self.in_dim).float(), requires_grad=True)\n",
    "        self.register_parameter('mu', self.mu)\n",
    "        self.sigmoid = nn.Sigmoid()\n",
    "        self.relu = nn.ReLU()\n",
    "        \n",
    "    def forward(self, x):\n",
    "        return x * self.mask()\n",
    "    \n",
    "    def mask(self):\n",
    "        return self.relu(self.mu)"
   ]
  },
  {
   "cell_type": "code",
   "execution_count": 10,
   "metadata": {},
   "outputs": [],
   "source": [
    "class AEncS(nn.Module):\n",
    "    def __init__(self, init_dim):\n",
    "        super(AEncS, self).__init__()\n",
    "        self.enc_layer_1 = nn.Linear(28 * 28, 128)\n",
    "        self.enc_layer_2 = nn.Linear(128, 64)\n",
    "        self.enc_layer_3 = nn.Linear(64, 32)\n",
    "        self.enc_layer_4 = nn.Linear(32, init_dim)\n",
    "        self.dam_layer = SLM(init_dim)\n",
    "        self.dec_layer_1 = nn.Linear(init_dim, 32)\n",
    "        self.dec_layer_2 = nn.Linear(32, 64)\n",
    "        self.dec_layer_3 = nn.Linear(64, 128)\n",
    "        self.dec_layer_4 = nn.Linear(128, 28 * 28)\n",
    "        self.relu = nn.ReLU()\n",
    "        self.tanh = nn.Tanh()\n",
    "        \n",
    "        \n",
    "    def forward(self, x):\n",
    "        out = self.relu(self.enc_layer_1(x))\n",
    "        out = self.relu(self.enc_layer_2(out))\n",
    "        out = self.relu(self.enc_layer_3(out))\n",
    "        h = self.enc_layer_4(out)\n",
    "        h = self.dam_layer(h)\n",
    "        x_r = self.relu(self.dec_layer_1(h))\n",
    "        x_r = self.relu(self.dec_layer_2(x_r))\n",
    "        x_r = self.relu(self.dec_layer_3(x_r))\n",
    "        x_r = self.tanh(self.dec_layer_4(x_r))\n",
    "        return x_r, h"
   ]
  },
  {
   "cell_type": "code",
   "execution_count": 15,
   "metadata": {},
   "outputs": [],
   "source": [
    "def test_predict(train_embd, train_label, test_embd, test_label, solver='lbfgs',\n",
    "             multi_class='auto', *args, **kwargs):\n",
    "        r\"\"\"Evaluates latent space quality via a logistic regression downstream\n",
    "        task.\"\"\"\n",
    "        clf = MLPClassifier(hidden_layer_sizes=(50, 50), random_state=1, max_iter=100).fit(train_embd, train_label)\n",
    "        return f1_score(test_label, clf.predict(test_embd), average='macro')"
   ]
  },
  {
   "cell_type": "code",
   "execution_count": 21,
   "metadata": {},
   "outputs": [],
   "source": [
    "def downstream(net):\n",
    "    train_z = []\n",
    "    train_y = []\n",
    "    for data in train_loader:\n",
    "        img, label = data\n",
    "        img = img.view(img.size(0), -1)\n",
    "        img = img.to(device)\n",
    "        output, embd = net(img)\n",
    "        train_z += embd.detach().cpu().numpy().tolist()\n",
    "        train_y += label.detach().cpu().numpy().tolist()\n",
    "        \n",
    "    train_embd = np.array(train_z)\n",
    "    train_label = np.array(train_y)\n",
    "    \n",
    "    test_z = []\n",
    "    test_y = []\n",
    "    for data in test_loader:\n",
    "        img, label = data\n",
    "        img = img.view(img.size(0), -1)\n",
    "        img = img.to(device)\n",
    "        output, embd = net(img)\n",
    "        test_z += embd.detach().cpu().numpy().tolist()\n",
    "        test_y += label.detach().cpu().numpy().tolist()\n",
    "\n",
    "    test_embd = np.array(test_z)\n",
    "    test_label = np.array(test_y)\n",
    "    \n",
    "    return test_predict(train_embd, train_label, test_embd, test_label, max_iter=150)"
   ]
  },
  {
   "cell_type": "code",
   "execution_count": 23,
   "metadata": {},
   "outputs": [],
   "source": [
    "init_dims = [50] #100\n",
    "lambda_rs = [0.01, 0.05, 0.1, 0.5, 1, 2, 5]\n",
    "dam_btl_dim_mean = []\n",
    "dam_btl_dim_std = []\n",
    "dam_rec_loss_mean = []\n",
    "dam_rec_loss_std = []\n",
    "\n",
    "dam_btl_dims = []\n",
    "dam_rec_losses = []\n",
    "\n",
    "criterion = nn.MSELoss()\n",
    "\n",
    "for init_dim in init_dims:\n",
    "    init_dim_btl_mean = []\n",
    "    init_dim_btl_std = []\n",
    "    init_dim_rec_mean = []\n",
    "    init_dim_rec_std = []\n",
    "    for lambda_r in lambda_rs:\n",
    "        btl_neurons = []\n",
    "        rec_loss = []\n",
    "        model_name = str(init_dim)+'x'+str(lambda_r)\n",
    "        for run in range(1, 6):\n",
    "            net = AEnc(init_dim).to(device)\n",
    "            net.load_state_dict(torch.load('saved_models/dam_model_'+model_name+'_run_'+str(run)+'.pt'))\n",
    "            \n",
    "            btl_d = (net.dam_layer.mask().detach().cpu().numpy() > 0).sum()\n",
    "            btl_neurons.append(btl_d)\n",
    "            \n",
    "            net.eval()\n",
    "            rec_loss.append(downstream(net))\n",
    "        \n",
    "        dam_btl_dims += btl_neurons\n",
    "        dam_rec_losses += rec_loss \n",
    "        init_dim_btl_mean.append(np.mean(btl_neurons))\n",
    "        init_dim_btl_std.append(np.std(btl_neurons))\n",
    "        init_dim_rec_mean.append(np.mean(rec_loss))\n",
    "        init_dim_rec_std.append(np.std(rec_loss))\n",
    "        \n",
    "    dam_btl_dim_mean.append(init_dim_btl_mean)\n",
    "    dam_btl_dim_std.append(init_dim_btl_std)\n",
    "    dam_rec_loss_mean.append(init_dim_rec_mean)\n",
    "    dam_rec_loss_std.append(init_dim_rec_std)\n",
    "            "
   ]
  },
  {
   "cell_type": "code",
   "execution_count": 24,
   "metadata": {},
   "outputs": [],
   "source": [
    "slm_btl_dim_mean = []\n",
    "slm_btl_dim_std = []\n",
    "slm_rec_loss_mean = []\n",
    "slm_rec_loss_std = []\n",
    "\n",
    "slm_btl_dims = []\n",
    "slm_rec_losses = []\n",
    "\n",
    "criterion = nn.MSELoss()\n",
    "\n",
    "for init_dim in init_dims:\n",
    "    init_dim_btl_mean = []\n",
    "    init_dim_btl_std = []\n",
    "    init_dim_rec_mean = []\n",
    "    init_dim_rec_std = []\n",
    "    for lambda_r in lambda_rs:\n",
    "        btl_neurons = []\n",
    "        rec_loss = []\n",
    "        model_name = str(init_dim)+'x'+str(lambda_r)\n",
    "        for run in range(1, 6):\n",
    "            net = AEncS(init_dim).to(device)\n",
    "            net.load_state_dict(torch.load('saved_models/slm_model_'+model_name+'_run_'+str(run)+'.pt'))\n",
    "            \n",
    "            btl_d = (net.dam_layer.mask().detach().cpu().numpy() > 0).sum()\n",
    "            btl_neurons.append(btl_d)\n",
    "            \n",
    "            net.eval()\n",
    "            rec_loss.append(downstream(net))\n",
    "            \n",
    "        slm_btl_dims += btl_neurons\n",
    "        slm_rec_losses += rec_loss \n",
    "        init_dim_btl_mean.append(np.mean(btl_neurons))\n",
    "        init_dim_btl_std.append(np.std(btl_neurons))\n",
    "        init_dim_rec_mean.append(np.mean(rec_loss))\n",
    "        init_dim_rec_std.append(np.std(rec_loss))\n",
    "        \n",
    "    slm_btl_dim_mean.append(init_dim_btl_mean)\n",
    "    slm_btl_dim_std.append(init_dim_btl_std)\n",
    "    slm_rec_loss_mean.append(init_dim_rec_mean)\n",
    "    slm_rec_loss_std.append(init_dim_rec_std)"
   ]
  },
  {
   "cell_type": "code",
   "execution_count": 90,
   "metadata": {},
   "outputs": [
    {
     "data": {
      "image/png": "[encoded data removed]",
      "text/plain": [
       "<Figure size 440x320 with 1 Axes>"
      ]
     },
     "metadata": {
      "needs_background": "light"
     },
     "output_type": "display_data"
    }
   ],
   "source": [
    "fig, ax = plt.subplots(figsize=(2.2, 1.60), dpi=200)\n",
    "\n",
    "plt.scatter( dam_btl_dim_mean[0], dam_rec_loss_mean[0],marker='o', s=6, color='r')\n",
    "plt.plot( dam_btl_dim_mean[0], dam_rec_loss_mean[0], color='r', label='DAM', lw=0.8)\n",
    "plt.scatter(slm_btl_dim_mean[0], slm_rec_loss_mean[0], marker='o', s=6, color='b')\n",
    "plt.plot(slm_btl_dim_mean[0], slm_rec_loss_mean[0], color='b', label='$L_{1}$-norm', lw=.8)\n",
    "\n",
    "\n",
    "py.legend(loc='lower right', fontsize=9)\n",
    "plt.xlabel('Bottleneck Dimension')\n",
    "plt.ylabel('F1-Macro')\n",
    "plt.xticks(np.arange(5, max(del_slm_btl_dim_mean)+2, 7), fontsize=8)\n",
    "plt.yticks(np.linspace(start=0.80, stop=0.98, num=4), fontsize=8)\n",
    "\n",
    "\n",
    "fig.tight_layout()\n",
    "fig.savefig(\"plots/mnist_f1_macro.pdf\", dpi=400, transparent=True, bbox_inches='tight')\n",
    "plt.show()"
   ]
  },
  {
   "cell_type": "code",
   "execution_count": 91,
   "metadata": {},
   "outputs": [],
   "source": [
    "d = {\n",
    "    'dam_btl_dim_mean': dam_btl_dim_mean,\n",
    "    'dam_rec_loss_mean': dam_rec_loss_mean,\n",
    "    'slm_btl_dim_mean': slm_btl_dim_mean,\n",
    "    'slm_rec_loss_mean': slm_rec_loss_mean\n",
    "}\n",
    "np.save('saved_models/mnist_mlp_clf.npy', d, allow_pickle=True)"
   ]
  }
 ],
 "metadata": {
  "kernelspec": {
   "display_name": "Python 3",
   "language": "python",
   "name": "python3"
  },
  "language_info": {
   "codemirror_mode": {
    "name": "ipython",
    "version": 3
   },
   "file_extension": ".py",
   "mimetype": "text/x-python",
   "name": "python",
   "nbconvert_exporter": "python",
   "pygments_lexer": "ipython3",
   "version": "3.6.9"
  }
 },
 "nbformat": 4,
 "nbformat_minor": 4
}
