{
 "cells": [
  {
   "cell_type": "code",
   "execution_count": null,
   "metadata": {},
   "outputs": [],
   "source": [
    "import os\n",
    "import torch\n",
    "import sys\n",
    "import torchvision\n",
    "from torch import nn\n",
    "from torch.autograd import Variable\n",
    "from torch.utils.data import DataLoader\n",
    "from torchvision import transforms\n",
    "from torchvision.datasets import MNIST\n",
    "from torchvision.utils import save_image\n",
    "import numpy as np\n",
    "\n",
    "import warnings\n",
    "warnings.filterwarnings('ignore')\n",
    "\n",
    "from fastprogress import master_bar, progress_bar"
   ]
  },
  {
   "cell_type": "code",
   "execution_count": null,
   "metadata": {},
   "outputs": [],
   "source": [
    "run = 1"
   ]
  },
  {
   "cell_type": "code",
   "execution_count": null,
   "metadata": {},
   "outputs": [],
   "source": [
    "if not os.path.exists('./saved_models'):\n",
    "    os.mkdir('./saved_models')"
   ]
  },
  {
   "cell_type": "code",
   "execution_count": null,
   "metadata": {},
   "outputs": [],
   "source": [
    "def to_img(x):\n",
    "    x = 0.5 * (x + 1)\n",
    "    x = x.clamp(0, 1)\n",
    "    x = x.view(x.size(0), 1, 28, 28)\n",
    "    return x"
   ]
  },
  {
   "cell_type": "code",
   "execution_count": null,
   "metadata": {},
   "outputs": [],
   "source": [
    "img_transform = transforms.Compose([\n",
    "    transforms.ToTensor(),\n",
    "    transforms.Normalize([0.5], [0.5])\n",
    "])"
   ]
  },
  {
   "cell_type": "code",
   "execution_count": null,
   "metadata": {},
   "outputs": [],
   "source": [
    "num_epochs = 100\n",
    "batch_size = 512\n",
    "learning_rate = 1e-3"
   ]
  },
  {
   "cell_type": "code",
   "execution_count": null,
   "metadata": {},
   "outputs": [],
   "source": [
    "train_dataset = MNIST('../data', train=True, transform=img_transform)\n",
    "test_dataset = MNIST('../data', train=False, transform=img_transform)\n",
    "train_loader = DataLoader(train_dataset, batch_size=batch_size, shuffle=True, num_workers=8)\n",
    "test_loader = DataLoader(test_dataset, batch_size=batch_size, shuffle=True, num_workers=8)"
   ]
  },
  {
   "cell_type": "code",
   "execution_count": null,
   "metadata": {},
   "outputs": [],
   "source": [
    "class DAM(nn.Module):\n",
    "    \"\"\" Discriminative Amplitude Modulator Layer (1-D) \"\"\"\n",
    "    def __init__(self, in_dim):\n",
    "        super(DAM, self).__init__()\n",
    "        self.in_dim = in_dim\n",
    "        \n",
    "        self.mu = torch.arange(0, self.in_dim).float()/self.in_dim * 5\n",
    "        self.mu = nn.Parameter(self.mu, requires_grad=False)\n",
    "        self.beta = nn.Parameter(torch.ones(1), requires_grad=True)\n",
    "        self.alpha = nn.Parameter(torch.ones(1), requires_grad=False)\n",
    "        self.register_parameter('mu', self.mu)\n",
    "        self.register_parameter('beta', self.beta)\n",
    "        self.register_parameter('alpha', self.alpha)\n",
    "        \n",
    "        self.tanh = nn.Tanh()\n",
    "        self.relu = nn.ReLU()\n",
    "        \n",
    "    def forward(self, x):\n",
    "        return x * self.mask()\n",
    "    \n",
    "    def mask(self):\n",
    "        return self.relu(self.tanh((self.alpha ** 2) * (self.mu + self.beta)))"
   ]
  },
  {
   "cell_type": "code",
   "execution_count": null,
   "metadata": {},
   "outputs": [],
   "source": [
    "class AEnc(nn.Module):\n",
    "    def __init__(self, init_dim):\n",
    "        super(AEnc, self).__init__()\n",
    "        self.enc_layer_1 = nn.Linear(28 * 28, 128)\n",
    "        self.enc_layer_2 = nn.Linear(128, 64)\n",
    "        self.enc_layer_3 = nn.Linear(64, 32)\n",
    "        self.enc_layer_4 = nn.Linear(32, init_dim)\n",
    "        self.dam_layer = DAM(init_dim)\n",
    "        self.dec_layer_1 = nn.Linear(init_dim, 32)\n",
    "        self.dec_layer_2 = nn.Linear(32, 64)\n",
    "        self.dec_layer_3 = nn.Linear(64, 128)\n",
    "        self.dec_layer_4 = nn.Linear(128, 28 * 28)\n",
    "        self.relu = nn.ReLU()\n",
    "        self.tanh = nn.Tanh()\n",
    "        \n",
    "        \n",
    "    def forward(self, x):\n",
    "        out = self.relu(self.enc_layer_1(x))\n",
    "        out = self.relu(self.enc_layer_2(out))\n",
    "        out = self.relu(self.enc_layer_3(out))\n",
    "        h = self.enc_layer_4(out)\n",
    "        h = self.dam_layer(h)\n",
    "        x_r = self.relu(self.dec_layer_1(h))\n",
    "        x_r = self.relu(self.dec_layer_2(x_r))\n",
    "        x_r = self.relu(self.dec_layer_3(x_r))\n",
    "        x_r = self.tanh(self.dec_layer_4(x_r))\n",
    "        return x_r, h"
   ]
  },
  {
   "cell_type": "code",
   "execution_count": null,
   "metadata": {},
   "outputs": [],
   "source": []
  },
  {
   "cell_type": "code",
   "execution_count": null,
   "metadata": {},
   "outputs": [],
   "source": [
    "cuda_ = 'cuda:'+str(run)\n",
    "device = cuda_ if torch.cuda.is_available() else 'cpu'\n",
    "print(device)"
   ]
  },
  {
   "cell_type": "code",
   "execution_count": null,
   "metadata": {},
   "outputs": [],
   "source": []
  },
  {
   "cell_type": "code",
   "execution_count": null,
   "metadata": {},
   "outputs": [],
   "source": [
    "init_dims = [50]\n",
    "lambda_rs = [0.01, 0.05, 0.1, 0.5, 1., 2., 3., 4.]+np.arange(5., 10., 0.5).tolist()\n",
    "\n",
    "verbose = []\n",
    "test_mse = []\n",
    "btl_dim = []\n",
    "\n",
    "for init_dim in init_dims:\n",
    "    for lambda_r in lambda_rs:\n",
    "        print('####################################################')\n",
    "        print('Run: %d INIT_DIM: %d \\t LAMBDA_REG: %f' %(run, init_dim, lambda_r))\n",
    "        verbose.append(str(init_dim)+'x'+str(lambda_r))\n",
    "        print('####################################################')\n",
    "\n",
    "        net = AEnc(init_dim).to(device)\n",
    "\n",
    "        criterion = nn.MSELoss()\n",
    "        optimizer = torch.optim.Adam(net.parameters(), lr=learning_rate)\n",
    "\n",
    "        mb = master_bar(range(1))\n",
    "        pb = progress_bar(range(100), parent=mb)\n",
    "        mb.names = ['Embd dim']\n",
    "\n",
    "        x_bounds = [0, len(net.dam_layer.mask().detach().cpu().numpy())+1]\n",
    "        y_bounds = [0, 1]\n",
    "        x_n = np.arange(len(net.dam_layer.mask().detach().cpu().numpy()))\n",
    "        y1 = net.dam_layer.mask().detach().cpu().numpy()\n",
    "\n",
    "        graphs = [[x_n,y1],]\n",
    "        mb.update_graph(graphs, x_bounds, y_bounds)\n",
    "        print(\"[Epoch\\tloss\\tMSE\\tReg\\tbeta_1]\")\n",
    "\n",
    "\n",
    "        for _ in mb:\n",
    "            for epoch in range(num_epochs):\n",
    "                for data in train_loader:\n",
    "                    img, _ = data\n",
    "                    img = img.view(img.size(0), -1)\n",
    "                    img = img.to(device)\n",
    "\n",
    "                    # ===================forward=====================\n",
    "                    output, _ = net(img)\n",
    "\n",
    "                    beta_1 = net.dam_layer.beta\n",
    "                    loss_gate = torch.mean(beta_1) \n",
    "                    loss_data = criterion(output, img)\n",
    "\n",
    "                    loss = loss_data + lambda_r * loss_gate\n",
    "\n",
    "                    # ===================backward====================\n",
    "                    optimizer.zero_grad()\n",
    "                    loss.backward()\n",
    "                    optimizer.step()\n",
    "\n",
    "                if epoch % 2 == 0:       \n",
    "                    y1 = net.dam_layer.mask().detach().cpu().numpy()\n",
    "                    graphs = [[x_n,y1],]\n",
    "                    mb.update_graph(graphs, x_bounds, y_bounds)\n",
    "\n",
    "                    sys.stdout.write(\"\\r[%d\\t%.5e\\t%.5e\\t%.3f]\" % (epoch, loss.item(), loss_data.item(), net.dam_layer.beta.item()))\n",
    "\n",
    "        btl_d = (net.dam_layer.mask().detach().cpu().numpy() > 0).sum()\n",
    "        btl_dim.append(btl_d)\n",
    "        \n",
    "        if btl_d == 0:\n",
    "            break\n",
    "\n",
    "        net.eval()\n",
    "        rec_loss = 0\n",
    "        count = 0\n",
    "        for data in test_loader:\n",
    "            img, _ = data\n",
    "            img = img.view(img.size(0), -1)\n",
    "            img = img.to(device)\n",
    "            output, _ = net(img)\n",
    "            rec_loss += criterion(output, img)\n",
    "            count += 1\n",
    "        test_mse.append((rec_loss/count).item())\n",
    "\n",
    "        print('MODEL:', verbose[-1])\n",
    "        print('BTLNK_DIM:', btl_dim[-1])\n",
    "        print('TEST_MSE:', test_mse[-1])\n",
    "\n",
    "        torch.save(net.state_dict(), 'saved_models/dam_model_'+verbose[-1]+'_run_'+str(run)+'.pt')\n",
    "\n"
   ]
  },
  {
   "cell_type": "code",
   "execution_count": null,
   "metadata": {},
   "outputs": [],
   "source": []
  },
  {
   "cell_type": "code",
   "execution_count": null,
   "metadata": {},
   "outputs": [],
   "source": []
  }
 ],
 "metadata": {
  "kernelspec": {
   "display_name": "Python 3",
   "language": "python",
   "name": "python3"
  },
  "language_info": {
   "codemirror_mode": {
    "name": "ipython",
    "version": 3
   },
   "file_extension": ".py",
   "mimetype": "text/x-python",
   "name": "python",
   "nbconvert_exporter": "python",
   "pygments_lexer": "ipython3",
   "version": "3.6.9"
  }
 },
 "nbformat": 4,
 "nbformat_minor": 4
}
